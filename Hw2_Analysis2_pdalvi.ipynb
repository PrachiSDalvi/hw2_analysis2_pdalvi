{
 "cells": [
  {
   "cell_type": "markdown",
   "id": "691452cd-a23b-4ff1-9c30-aa92442960c8",
   "metadata": {},
   "source": [
    "# HW2 - Doing Excel work with Python - Analysis 2 - PDalvi\n",
    "\n",
    "We have created the project structure using cookiecutter-datascience-simple template, copied the logs folder (i.e input files) to the data folder and put the required files and project folder under version control.\n",
    "\n",
    "We start by importing the required python libraires for our analysis."
   ]
  },
  {
   "cell_type": "code",
   "execution_count": 2,
   "id": "04dc4f44-72fd-4cd5-b058-1d2e24a82c39",
   "metadata": {},
   "outputs": [],
   "source": [
    "import csv\n",
    "import openpyxl\n",
    "import os\n",
    "import glob   \n",
    "import pandas as pd"
   ]
  },
  {
   "cell_type": "markdown",
   "id": "8ba418ce-81fb-4fef-bc31-59886983273e",
   "metadata": {},
   "source": [
    "We are hardcoding the output file in the first part of the analysis, and creating a blank BCM2.xlsx file in the output folder, and then we are accessing the logs folder to get the names of the files to be merged in single xlsx file."
   ]
  },
  {
   "cell_type": "code",
   "execution_count": 3,
   "id": "15416fc2-0034-4be8-a4c4-23e4777a0471",
   "metadata": {},
   "outputs": [
    {
     "data": {
      "text/plain": [
       "['./data/logs\\\\BCM-E-tCenter-Deep.csv',\n",
       " './data/logs\\\\BCM-E-tCenter-Medium.csv',\n",
       " './data/logs\\\\BCM-E-tCenter-Shallow.csv',\n",
       " './data/logs\\\\BCM-E-tLeft-Deep.csv',\n",
       " './data/logs\\\\BCM-E-tLeft-Medium.csv',\n",
       " './data/logs\\\\BCM-E-tRight-Deep.csv',\n",
       " './data/logs\\\\BCM-E-tRight-Medium.csv',\n",
       " './data/logs\\\\BCM-N-tCenter-Deep.csv',\n",
       " './data/logs\\\\BCM-N-tCenter-Medium.csv',\n",
       " './data/logs\\\\BCM-N-tLeft-Deep.csv',\n",
       " './data/logs\\\\BCM-N-tLeft-Medium.csv',\n",
       " './data/logs\\\\BCM-N-tRight-Deep.csv',\n",
       " './data/logs\\\\BCM-N-tRight-Medium.csv',\n",
       " './data/logs\\\\BCM-N-tRight-Shallow.csv']"
      ]
     },
     "execution_count": 3,
     "metadata": {},
     "output_type": "execute_result"
    }
   ],
   "source": [
    "wb = openpyxl.Workbook()\n",
    "wb.save('./output/BCM2.xlsx')\n",
    "\n",
    "path = \"./data/logs\"\n",
    "all_files = glob.glob(os.path.join(path, \"*.csv\"))\n",
    "all_files"
   ]
  },
  {
   "cell_type": "markdown",
   "id": "3470a476-ec3a-4509-a4f6-871eea6c1efa",
   "metadata": {},
   "source": [
    "#### Consolidation\n",
    "\n",
    "Next we loop through the input files, create a sheet in the output file with the sheetname same as the input file name and past the contents in the excel worksheet. In this process we all do some formatting in the worksheet like adding the column headers and the datetime column specifically was getting copied as string so we formatted it to datetime in the dataframe itself before copying it to the output excel worksheet. Lastly, the important step was to save the excel once all the worksheets were copied and formatted."
   ]
  },
  {
   "cell_type": "code",
   "execution_count": 4,
   "id": "2a7dab94-e49d-4c38-b36c-114a8b2d346c",
   "metadata": {},
   "outputs": [],
   "source": [
    "writer = pd.ExcelWriter('./output/BCM.xlsx', engine='xlsxwriter')\n",
    "\n",
    "for f in all_files:\n",
    "    #print(f)\n",
    "    column_names=[\"datetime\", \"scale\", \"temperature\"]\n",
    "    df = pd.read_csv(f)\n",
    "    #df = pd.read_csv(f, parse_dates=[0])\n",
    "    df.columns = column_names\n",
    "\n",
    "    df['datetime'] = df['datetime'].astype('datetime64[ns]')\n",
    "    #print(df.dtypes)\n",
    "    #print(df[\"datetime\"])\n",
    "\n",
    "    #print(os.path.basename(f)[:-4])\n",
    "    \n",
    "    df.to_excel(writer, sheet_name=os.path.basename(f)[:-4], index=False)\n",
    "    \n",
    "writer.save()"
   ]
  },
  {
   "cell_type": "markdown",
   "id": "57a9d57c-ca9b-4d79-9ce1-5de81faa56ff",
   "metadata": {},
   "source": [
    "#### Summarization\n",
    "\n",
    "For adding the summary of the temperature and the datetime, we open and load our output workbook, loop through each of our worksheets and add text and formulas respectively in each sheet. Here i just gave manual cell address for G2 accessed by row = 2, column = 7 for the min_temp and the next values are added respectively. For accessing the end cell address for our formulas, I used max_row which gives the max of the row numbers in the active sheet."
   ]
  },
  {
   "cell_type": "code",
   "execution_count": 5,
   "id": "b1fb03f2-b863-4853-83ae-fd4f9d7eae20",
   "metadata": {},
   "outputs": [],
   "source": [
    "#from openpyxl.formula.translate import\n",
    "\n",
    "wb = openpyxl.Workbook()\n",
    "wb = openpyxl.load_workbook(filename = './output/BCM.xlsx')\n",
    "\n",
    "for sheet in wb.worksheets:\n",
    "    #print(sheet)\n",
    "    rowcnt = sheet.max_row\n",
    "    \n",
    "    mintemp = \"= min(C2:C{})\".format(rowcnt)\n",
    "    maxtemp = \"= max(C2:C{})\".format(rowcnt)\n",
    "    meantemp = \"= average(C2:C{})\".format(rowcnt)\n",
    "    \n",
    "    mindate = \"= TEXT(min(A2:A{}), \\\"yyyy-mm-dd hh:mm:ss\\\")\".format(rowcnt)\n",
    "    #print(mindate)\n",
    "    maxdate = \"= TEXT(max(A2:A{}), \\\"yyyy-mm-dd hh:mm:ss\\\")\".format(rowcnt)\n",
    "    \n",
    "    #print(mintemp)\n",
    "    #print(rowcnt)\n",
    "    sheet.cell(row = 2, column = 7, value = 'min_temp')\n",
    "    sheet.cell(row = 3, column = 7, value = 'max_temp')\n",
    "    sheet.cell(row = 4, column = 7, value = 'mean_temp')\n",
    "    \n",
    "    sheet.cell(row = 6, column = 7, value = 'min_date')\n",
    "    sheet.cell(row = 7, column = 7, value = 'max_date')\n",
    "   \n",
    "    sheet.cell(row = 2, column = 8, value = mintemp)\n",
    "    sheet.cell(row = 3, column = 8, value = maxtemp)\n",
    "    sheet.cell(row = 4, column = 8, value = meantemp)\n",
    "    \n",
    "    sheet.cell(row = 6, column = 8, value = mindate)\n",
    "    sheet.cell(row = 7, column = 8, value = maxdate)\n",
    "    \n",
    "    \n",
    "wb.save('./output/BCM.xlsx')"
   ]
  },
  {
   "cell_type": "markdown",
   "id": "2857cd97-d433-49c2-9ad8-08b1c1863a54",
   "metadata": {},
   "source": [
    "For the Extra credit problem part, I first created a new hacker_logs folder that holds all the input files and renamed few of the BCM files to JEF and MAE. Next I found all the filesnames in the hacker_logs path and created a list of elements with the 19-22 character from the file name which happen to be stream name, then by set function of list got distinct elements of the stream names. Once we have the distinct stream names, I created the xlsx files for all the streams in output/hacker_output folder. Next, we run a for loop of the stream files and find all the csv files with the particular stream and copy them into the output xlxs file in respective sheets. After this, the processing and formatting of the dataframe and xlsx file is the same as we did in the summarization part above."
   ]
  },
  {
   "cell_type": "code",
   "execution_count": 8,
   "id": "5eec62fe-cbc0-4aa8-a5a8-1c4fd2577007",
   "metadata": {},
   "outputs": [],
   "source": [
    "path = \"./data/hacker_logs\"\n",
    "all_files = glob.glob(os.path.join(path, \"*.csv\"))\n",
    "all_files\n",
    "\n",
    "y = []\n",
    "for f in all_files:\n",
    "    y.append(f[19:22])\n",
    "    \n",
    "y = list(set(y))\n",
    "\n",
    "op_path = \"./output/hacker_output/\"\n",
    "for i in y:\n",
    "    #print(i)\n",
    "    opfname = op_path+i+\".xlsx\"\n",
    "    #print(opfname)\n",
    "    wb = openpyxl.Workbook()\n",
    "    wb.save(opfname)\n",
    "    \n",
    "op_all_files = glob.glob(os.path.join(op_path, \"*.xlsx\"))\n",
    "#print(op_all_files)\n",
    "\n",
    "\n",
    "for op in op_all_files:\n",
    "    #print(op)\n",
    "    #print(os.path.basename(op)[:3])\n",
    "    ipfiles = os.path.basename(op)[:3]+'*.csv'\n",
    "    all_files = glob.glob(os.path.join(path, ipfiles))\n",
    "    writer = pd.ExcelWriter(op, engine='xlsxwriter')\n",
    "    for f in all_files:\n",
    "        #print(f)\n",
    "        column_names=[\"datetime\", \"scale\", \"temperature\"]\n",
    "        df = pd.read_csv(f)\n",
    "    \n",
    "        df.columns = column_names\n",
    "        df['datetime'] = df['datetime'].astype('datetime64[ns]')\n",
    "    \n",
    "        #print(os.path.basename(f)[:3])\n",
    "        df.to_excel(writer, sheet_name=os.path.basename(f)[:-4], index=False)\n",
    "    writer.save()"
   ]
  },
  {
   "cell_type": "code",
   "execution_count": 10,
   "id": "98fe9109-3916-4f29-a73b-e2520fdc9342",
   "metadata": {},
   "outputs": [],
   "source": [
    "#from openpyxl.formula.translate import\n",
    "\n",
    "for op in op_all_files:\n",
    "    #print(op)\n",
    "    \n",
    "    wb = openpyxl.Workbook()\n",
    "    wb = openpyxl.load_workbook(filename = op)\n",
    "\n",
    "    for sheet in wb.worksheets:\n",
    "        #print(sheet)\n",
    "        rowcnt = sheet.max_row\n",
    "    \n",
    "        mintemp = \"= min(C2:C{})\".format(rowcnt)\n",
    "        maxtemp = \"= max(C2:C{})\".format(rowcnt)\n",
    "        meantemp = \"= average(C2:C{})\".format(rowcnt)\n",
    "    \n",
    "        mindate = \"= TEXT(min(A2:A{}), \\\"yyyy-mm-dd hh:mm:ss\\\")\".format(rowcnt)\n",
    "        #print(mindate)\n",
    "        maxdate = \"= TEXT(max(A2:A{}), \\\"yyyy-mm-dd hh:mm:ss\\\")\".format(rowcnt)\n",
    "    \n",
    "        #print(mintemp)\n",
    "        #print(rowcnt)\n",
    "        sheet.cell(row = 2, column = 7, value = 'min_temp')\n",
    "        sheet.cell(row = 3, column = 7, value = 'max_temp')\n",
    "        sheet.cell(row = 4, column = 7, value = 'mean_temp')\n",
    "    \n",
    "        sheet.cell(row = 6, column = 7, value = 'min_date')\n",
    "        sheet.cell(row = 7, column = 7, value = 'max_date')\n",
    "   \n",
    "        sheet.cell(row = 2, column = 8, value = mintemp)\n",
    "        sheet.cell(row = 3, column = 8, value = maxtemp)\n",
    "        sheet.cell(row = 4, column = 8, value = meantemp)\n",
    "    \n",
    "        sheet.cell(row = 6, column = 8, value = mindate)\n",
    "        sheet.cell(row = 7, column = 8, value = maxdate)\n",
    "    wb.save(op)"
   ]
  },
  {
   "cell_type": "code",
   "execution_count": null,
   "id": "d2047a34-47c4-47ed-a987-fac224cd9663",
   "metadata": {},
   "outputs": [],
   "source": []
  }
 ],
 "metadata": {
  "kernelspec": {
   "display_name": "Python [conda env:aap]",
   "language": "python",
   "name": "conda-env-aap-py"
  },
  "language_info": {
   "codemirror_mode": {
    "name": "ipython",
    "version": 3
   },
   "file_extension": ".py",
   "mimetype": "text/x-python",
   "name": "python",
   "nbconvert_exporter": "python",
   "pygments_lexer": "ipython3",
   "version": "3.7.16"
  }
 },
 "nbformat": 4,
 "nbformat_minor": 5
}
