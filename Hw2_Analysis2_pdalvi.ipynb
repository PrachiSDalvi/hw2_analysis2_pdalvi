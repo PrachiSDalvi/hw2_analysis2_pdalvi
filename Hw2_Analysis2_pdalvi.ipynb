{
 "cells": [
  {
   "cell_type": "code",
   "execution_count": null,
   "id": "2cd27090-0b5e-4d5b-ad0b-19f2c26f3bb0",
   "metadata": {},
   "outputs": [],
   "source": [
    "import csv\n",
    "import openpyxl\n",
    "\n",
    "import glob   "
   ]
  },
  {
   "cell_type": "code",
   "execution_count": null,
   "id": "b9a21ca4-04c5-4a7d-9012-2e1cbc782501",
   "metadata": {},
   "outputs": [
    {
     "data": {
      "text/plain": [
       "['./data/logs\\\\BCM-E-tCenter-Deep.csv',\n",
       " './data/logs\\\\BCM-E-tCenter-Medium.csv',\n",
       " './data/logs\\\\BCM-E-tCenter-Shallow.csv',\n",
       " './data/logs\\\\BCM-E-tLeft-Deep.csv',\n",
       " './data/logs\\\\BCM-E-tLeft-Medium.csv',\n",
       " './data/logs\\\\BCM-E-tRight-Deep.csv',\n",
       " './data/logs\\\\BCM-E-tRight-Medium.csv',\n",
       " './data/logs\\\\BCM-N-tCenter-Deep.csv',\n",
       " './data/logs\\\\BCM-N-tCenter-Medium.csv',\n",
       " './data/logs\\\\BCM-N-tLeft-Deep.csv',\n",
       " './data/logs\\\\BCM-N-tLeft-Medium.csv',\n",
       " './data/logs\\\\BCM-N-tRight-Deep.csv',\n",
       " './data/logs\\\\BCM-N-tRight-Medium.csv',\n",
       " './data/logs\\\\BCM-N-tRight-Shallow.csv']"
      ]
     },
     "execution_count": 88,
     "metadata": {},
     "output_type": "execute_result"
    }
   ],
   "source": [
    "wb = openpyxl.Workbook()\n",
    "wb.save('./output/BCM3.xlsx')\n",
    "\n",
    "path = \"./data/logs\"\n",
    "all_files = glob.glob(os.path.join(path, \"*.csv\"))\n",
    "all_files"
   ]
  },
  {
   "cell_type": "code",
   "execution_count": null,
   "id": "a9517ae8-7ea9-4f51-b7ad-828fd268f358",
   "metadata": {},
   "outputs": [],
   "source": [
    "wb = openpyxl.Workbook()\n",
    "wb = openpyxl.load_workbook(filename = './output/BCM3.xlsx')\n",
    "\n",
    "ws = wb.active"
   ]
  },
  {
   "cell_type": "code",
   "execution_count": null,
   "id": "b7eec977-6fd7-4001-b390-033ff0459490",
   "metadata": {},
   "outputs": [],
   "source": [
    "for f in all_files:\n",
    "    #print(f)\n",
    "    df = pd.read_csv(f)\n",
    "    #print(os.path.basename(f)[:-4])\n",
    "    \n",
    "    #wb._add_sheet(ws) # private API so guarantee that this will always be possible\n",
    "    ws = wb.create_sheet(os.path.basename(f)[:-4])\n",
    "\n",
    "    with open(f) as f:\n",
    "        #print(f)\n",
    "        reader = csv.reader(f, delimiter=',')\n",
    "\n",
    "        for row in reader:\n",
    "            #print(row)\n",
    "            ws.append(row)\n",
    "    \n",
    "wb.save('./output/BCM3.xlsx')"
   ]
  },
  {
   "cell_type": "code",
   "execution_count": null,
   "id": "028241dc-3b45-425d-8834-5e9ce95ba60c",
   "metadata": {},
   "outputs": [
    {
     "name": "stdout",
     "output_type": "stream",
     "text": [
      "<Worksheet \"Sheet\">\n",
      "<Worksheet \"BCM-E-tCenter-Deep\">\n",
      "<Worksheet \"BCM-E-tCenter-Medium\">\n",
      "<Worksheet \"BCM-E-tCenter-Shallow\">\n",
      "<Worksheet \"BCM-E-tLeft-Deep\">\n",
      "<Worksheet \"BCM-E-tLeft-Medium\">\n",
      "<Worksheet \"BCM-E-tRight-Deep\">\n",
      "<Worksheet \"BCM-E-tRight-Medium\">\n",
      "<Worksheet \"BCM-N-tCenter-Deep\">\n",
      "<Worksheet \"BCM-N-tCenter-Medium\">\n",
      "<Worksheet \"BCM-N-tLeft-Deep\">\n",
      "<Worksheet \"BCM-N-tLeft-Medium\">\n",
      "<Worksheet \"BCM-N-tRight-Deep\">\n",
      "<Worksheet \"BCM-N-tRight-Medium\">\n",
      "<Worksheet \"BCM-N-tRight-Shallow\">\n"
     ]
    }
   ],
   "source": [
    "#from openpyxl.formula.translate import\n",
    "\n",
    "wb = openpyxl.Workbook()\n",
    "wb = openpyxl.load_workbook(filename = './output/BCM3.xlsx')\n",
    "\n",
    "for sheet in wb.worksheets:\n",
    "    print(sheet)\n",
    "    for row in range(1, ws.max_row+1):\n",
    "        #sheet[\"{}{}\".format(\"C\", row)].number_format = '0:00'\n",
    "        sheet.cell(column=\"C\", row=row).number_format = '@'  # Changing format to TEXT\n",
    "\n",
    "    \n",
    "wb.save('./output/BCM3.xlsx')"
   ]
  },
  {
   "cell_type": "code",
   "execution_count": null,
   "id": "c8881668-65af-4b6a-8b8f-f5535fa6a60b",
   "metadata": {},
   "outputs": [],
   "source": []
  }
 ],
 "metadata": {
  "kernelspec": {
   "display_name": "Python [conda env:aap]",
   "language": "python",
   "name": "conda-env-aap-py"
  },
  "language_info": {
   "codemirror_mode": {
    "name": "ipython",
    "version": 3
   },
   "file_extension": ".py",
   "mimetype": "text/x-python",
   "name": "python",
   "nbconvert_exporter": "python",
   "pygments_lexer": "ipython3",
   "version": "3.7.16"
  }
 },
 "nbformat": 4,
 "nbformat_minor": 5
}
